{
 "cells": [
  {
   "cell_type": "markdown",
   "metadata": {},
   "source": [
    "#### Cross Entropy\n",
    "\n",
    "- Mean Square 방식 보다 오류에 더 민감\n",
    "\n",
    ">$ cost_(w) = \\displaystyle\\sum_{i=0}^{m}d_{(i)}(-\\log{y_{(i)}}) + (1 -d_{(i)})(-\\log{(1 - y_{(i)})})$"
   ]
  },
  {
   "cell_type": "markdown",
   "metadata": {},
   "source": [
    "#### Back Propagation(역전파 알고리즘)\n",
    "\n",
    "- Error를 반영하여 w를 갱신해야 하지만 중간 단계의 Neural Network에는 Error가 없기 때문에 이를 해결하기 위한 방법.    \n",
    "</br>\n",
    "- Error가 Neural Network를 반대 방향으로 타고 전달되는 방식으로 Error를 추가. 즉, 중간 단계에 Error를 추가하는 것.    \n",
    "</br>\n",
    "\n",
    "> $e_0 = d - y_0$    \n",
    "$\\delta_0 = softmax'(v_0)e_0$    \n",
    "$\\Delta w_0 = \\alpha \\delta_0 y_2$    \n",
    "$w_0 \\leftarrow w_0 + \\Delta w_0$     \n",
    "\n",
    "$e_0$ 는 마지막 Error 값\n",
    "\n",
    ">$e_2 = W_0 \\times \\delta_0$    \n",
    "$\\delta_2 = sigmoid'(v_2)e_2$    \n",
    "$\\Delta w_2 = \\alpha \\delta_2 y_1$    \n",
    "$w_2 \\leftarrow w_2 + \\Delta w_2$\n",
    "\n",
    "$e_2$ 는 마지막 이전 Error 값으로 이 값은 마지막 delta 값과 w값에 의해 결정된다.    \n",
    "$w_2$와 $\\delta_2$ 는 $e_2$의 값에 의해 결정되며 이러한 연쇄 과정을 통해 중간 과정의 Error를 추가한다."
   ]
  },
  {
   "cell_type": "markdown",
   "metadata": {},
   "source": [
    "#### Drop out\n",
    "\n",
    "- Neural Network는 overfitting이 가장 잘 일어나는 모델이기 때문에 이를 개선하기 위한 방법이다.    \n",
    "<br>\n",
    "- Weigh Decay : 가중치를 계산할 때 0~1 사이의 새로운 가중치$\\varepsilon$를 추가하여 overfitting을 방지한다.    \n",
    "<br>\n",
    "- Drop out : 모든 Neural을 학습하는 것이 아니라 일정 비율의 Neural만 놔두고 나머지는 Drop.    \n",
    "<br>\n",
    "- Drop out의 비율을 잘 조절해야 한다. 너무 적으면 Underfitting, 많으면 Overfitting이 일어남.    \n",
    "<br>\n",
    "- Drop out은 데이터 사이즈에 영향을 받는다. 데이터 사이즈가 작을 경우 오히려 역효과가 일어난다.\n",
    "\n",
    "![dropout](./Image/dropout.png)"
   ]
  },
  {
   "cell_type": "code",
   "execution_count": null,
   "metadata": {},
   "outputs": [],
   "source": []
  }
 ],
 "metadata": {
  "kernelspec": {
   "display_name": "Python 3.10.8 64-bit ('deeplearning-tf')",
   "language": "python",
   "name": "python3"
  },
  "language_info": {
   "name": "python",
   "version": "3.10.8"
  },
  "orig_nbformat": 4,
  "vscode": {
   "interpreter": {
    "hash": "b8194ce6389488c099b44ed308f1e80dbb656d46e8f1f7e14cef688568010376"
   }
  }
 },
 "nbformat": 4,
 "nbformat_minor": 2
}
