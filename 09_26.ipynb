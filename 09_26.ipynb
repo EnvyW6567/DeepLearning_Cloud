{
 "cells": [
  {
   "cell_type": "code",
   "execution_count": 2,
   "metadata": {},
   "outputs": [
    {
     "name": "stdout",
     "output_type": "stream",
     "text": [
      "   category  mcv  alkphos  sgpt  sgot  gammagt  drinks\n",
      "0         0   85       64    59    32       23     0.0\n",
      "1         0   86       54    33    16       54     0.0\n",
      "2         0   91       78    34    24       36     0.0\n",
      "3         0   87       70    12    28       10     0.0\n",
      "4         0   98       55    13    17       17     0.0\n",
      "Index(['category', 'mcv', 'alkphos', 'sgpt', 'sgot', 'gammagt', 'drinks'], dtype='object')\n"
     ]
    },
    {
     "data": {
      "text/plain": [
       "array([1, 1, 0, 0, 0, 0, 0, 1, 0, 0, 0, 0, 0, 1, 0, 0, 0, 1, 0, 1, 0, 1,\n",
       "       0, 1, 0, 0, 0, 0, 0, 0, 1, 1, 0, 0, 0, 1, 0, 0, 1, 1, 1, 0, 0, 0,\n",
       "       0, 1, 1, 1, 1, 1, 0, 0, 0, 0, 1, 1, 0, 1, 0, 0, 1, 1, 0, 1, 1, 0,\n",
       "       0, 0, 0, 1, 0, 1, 0, 0, 0, 0, 1, 1, 1, 1, 0, 1, 1, 1, 1, 1, 0, 1,\n",
       "       0, 1, 1, 0, 1, 1, 1, 1, 1, 1, 1, 1, 0, 1, 0, 0], dtype=int64)"
      ]
     },
     "execution_count": 2,
     "metadata": {},
     "output_type": "execute_result"
    }
   ],
   "source": [
    "from random import random\n",
    "from sklearn.tree import DecisionTreeClassifier, export_graphviz\n",
    "from sklearn.model_selection import train_test_split\n",
    "from sklearn.metrics import confusion_matrix\n",
    "import pandas as pd\n",
    "import pydot # need to install\n",
    "\n",
    "# prepare the iris dataset\n",
    "df = pd.read_csv('data/liver.csv')\n",
    "print(df.head())\n",
    "print(df.columns) # column names\n",
    "\n",
    "df_X = df.loc[:, df.columns != 'category']\n",
    "df_y = df['category']\n",
    "\n",
    "train_X, test_X, train_y, test_y = train_test_split(df_X, df_y, test_size=0.3, random_state=1234)\n",
    "\n",
    "model = DecisionTreeClassifier(random_state=1234)\n",
    "model.fit(train_X, train_y)\n",
    "model.predict(test_X)"
   ]
  },
  {
   "cell_type": "code",
   "execution_count": 3,
   "metadata": {},
   "outputs": [
    {
     "name": "stdout",
     "output_type": "stream",
     "text": [
      "Train accuracy : 1.0\n",
      "Test accuracy : 0.6442307692307693\n"
     ]
    }
   ],
   "source": [
    "# Accuracy, performance evaluation\n",
    "\n",
    "print('Train accuracy :',model.score(train_X, train_y))\n",
    "print('Test accuracy :',model.score(test_X, test_y))"
   ]
  },
  {
   "cell_type": "markdown",
   "metadata": {},
   "source": [
    "#### -결과값을 보면 test accuracy 가 상대적으로 너무 낮음. 즉 과적합(overfitting)이 일어남.\n",
    "##### 이를 해결하기 위해서 조율모수 max_depth를 설정함으로써 decision tree의 최대 깊이를 설정. 이를 통해 overfitting 해소."
   ]
  },
  {
   "cell_type": "code",
   "execution_count": 4,
   "metadata": {},
   "outputs": [],
   "source": [
    "model = DecisionTreeClassifier(random_state=1234, max_depth=4) # max_depth = 4 >> 조율 모수, Decision Tree의 최대 깊이 설정\n",
    "model.fit(train_X, train_y)\n",
    "pred_y = model.predict(test_X)\n"
   ]
  },
  {
   "cell_type": "code",
   "execution_count": 5,
   "metadata": {},
   "outputs": [
    {
     "name": "stdout",
     "output_type": "stream",
     "text": [
      "Train accuracy : 0.8008298755186722\n",
      "Test accuracy : 0.6923076923076923\n"
     ]
    }
   ],
   "source": [
    "print('Train accuracy :',model.score(train_X, train_y))\n",
    "print('Test accuracy :',model.score(test_X, test_y))"
   ]
  },
  {
   "cell_type": "markdown",
   "metadata": {},
   "source": [
    "##### 이전과 비교해서 accuray 0.05 가량 증가폭을 보임. overfitting 해소."
   ]
  },
  {
   "cell_type": "code",
   "execution_count": 1,
   "metadata": {},
   "outputs": [],
   "source": [
    "# export_graphviz(model, out_file='tree_model.dot', feature_names = train_X.columns, class_names = 'category', rounded = True, proportion = False, precision = 2, filled = True)\n",
    "# (graph,) = pydot.graph_from_dot_file('tree_model.dot', encoding='UTF-8')\n",
    "# graph.write_png('decision_tree.png')"
   ]
  },
  {
   "cell_type": "code",
   "execution_count": null,
   "metadata": {},
   "outputs": [],
   "source": []
  }
 ],
 "metadata": {
  "kernelspec": {
   "display_name": "Python 3.10.7 64-bit",
   "language": "python",
   "name": "python3"
  },
  "language_info": {
   "codemirror_mode": {
    "name": "ipython",
    "version": 3
   },
   "file_extension": ".py",
   "mimetype": "text/x-python",
   "name": "python",
   "nbconvert_exporter": "python",
   "pygments_lexer": "ipython3",
   "version": "3.10.7"
  },
  "orig_nbformat": 4,
  "vscode": {
   "interpreter": {
    "hash": "11705b00557649c2ab2263af14686c27a24b2cec0cd0adde932d16ea4aa3435f"
   }
  }
 },
 "nbformat": 4,
 "nbformat_minor": 2
}
