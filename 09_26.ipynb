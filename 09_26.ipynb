{
 "cells": [
  {
   "cell_type": "code",
   "execution_count": 5,
   "metadata": {},
   "outputs": [
    {
     "name": "stdout",
     "output_type": "stream",
     "text": [
      "Index(['category', 'mcv', 'alkphos', 'sgpt', 'sgot', 'gammagt', 'drinks'], dtype='object')\n",
      "<class 'pandas.core.series.Series'>\n"
     ]
    },
    {
     "data": {
      "text/plain": [
       "array([1, 1, 0, 0, 0, 0, 0, 1, 0, 0, 0, 0, 0, 1, 0, 0, 0, 1, 0, 1, 0, 1,\n",
       "       0, 1, 0, 0, 0, 0, 0, 0, 1, 1, 0, 0, 0, 1, 0, 0, 1, 1, 1, 0, 0, 0,\n",
       "       0, 1, 1, 1, 1, 1, 0, 0, 0, 0, 1, 1, 0, 1, 0, 0, 1, 1, 0, 1, 1, 0,\n",
       "       0, 0, 0, 1, 0, 1, 0, 0, 0, 0, 1, 1, 1, 1, 0, 1, 1, 1, 1, 1, 0, 1,\n",
       "       0, 1, 1, 0, 1, 1, 1, 1, 1, 1, 1, 1, 0, 1, 0, 0], dtype=int64)"
      ]
     },
     "execution_count": 5,
     "metadata": {},
     "output_type": "execute_result"
    }
   ],
   "source": [
    "from random import random\n",
    "from sklearn.tree import DecisionTreeClassifier, export_graphviz\n",
    "from sklearn.model_selection import train_test_split\n",
    "from sklearn.metrics import confusion_matrix\n",
    "import pandas as pd\n",
    "import pydot # need to install\n",
    "\n",
    "# prepare the iris dataset\n",
    "df = pd.read_csv('data/liver.csv')\n",
    "print(df.columns) # column names\n",
    "\n",
    "df_X = df.loc[:, df.columns != 'category']\n",
    "df_y = df['category']\n",
    "\n",
    "train_X, test_X, train_y, test_y = train_test_split(df_X, df_y, test_size=0.3, random_state=1234)\n",
    "\n",
    "model = DecisionTreeClassifier(random_state=1234)\n",
    "model.fit(train_X, train_y)\n",
    "model.predict(test_X)"
   ]
  },
  {
   "cell_type": "code",
   "execution_count": 4,
   "metadata": {},
   "outputs": [
    {
     "name": "stdout",
     "output_type": "stream",
     "text": [
      "Train accuracy : 1.0\n",
      "Test accuracy : 0.6442307692307693\n"
     ]
    }
   ],
   "source": [
    "# Accuracy, performance evaluation\n",
    "\n",
    "print('Train accuracy :',model.score(train_X, train_y))\n",
    "print('Test accuracy :',model.score(test_X, test_y))"
   ]
  },
  {
   "cell_type": "markdown",
   "metadata": {},
   "source": [
    "#### -결과값을 보면 test accuracy 가 상대적으로 너무 낮음. 즉 과적합(overfitting)이 일어남.\n",
    "##### 이를 해결하기 위해서 조율모수 max_depth를 설정함으로써 decision tree의 최대 깊이를 설정. 이를 통해 overfitting 해소."
   ]
  },
  {
   "cell_type": "code",
   "execution_count": 6,
   "metadata": {},
   "outputs": [],
   "source": [
    "model = DecisionTreeClassifier(random_state=1234, max_depth=4) # max_depth = 4 >> 조율 모수, Decision Tree의 최대 깊이 설정\n",
    "model.fit(train_X, train_y)\n",
    "pred_y = model.predict(test_X)\n"
   ]
  },
  {
   "cell_type": "code",
   "execution_count": 7,
   "metadata": {},
   "outputs": [
    {
     "name": "stdout",
     "output_type": "stream",
     "text": [
      "Train accuracy : 0.8008298755186722\n",
      "Test accuracy : 0.6923076923076923\n"
     ]
    }
   ],
   "source": [
    "print('Train accuracy :',model.score(train_X, train_y))\n",
    "print('Test accuracy :',model.score(test_X, test_y))"
   ]
  },
  {
   "cell_type": "markdown",
   "metadata": {},
   "source": [
    "##### 이전과 비교해서 accuray 0.05 가량 증가폭을 보임. overfitting 해소."
   ]
  },
  {
   "cell_type": "code",
   "execution_count": 8,
   "metadata": {},
   "outputs": [
    {
     "ename": "SyntaxError",
     "evalue": "unterminated string literal (detected at line 2) (3476179423.py, line 2)",
     "output_type": "error",
     "traceback": [
      "\u001b[1;36m  Cell \u001b[1;32mIn [8], line 2\u001b[1;36m\u001b[0m\n\u001b[1;33m    (graph,) = pydot.graph_from_dot_file('tree_model.dot’, encoding='UTF-8')\u001b[0m\n\u001b[1;37m                                                                          ^\u001b[0m\n\u001b[1;31mSyntaxError\u001b[0m\u001b[1;31m:\u001b[0m unterminated string literal (detected at line 2)\n"
     ]
    }
   ],
   "source": [
    "export_graphviz(model, out_file='tree_model.dot', feature_names = train_X.columns, class_names = 'category', rounded = True, proportion = False, precision = 2, filled = True)\n",
    "(graph,) = pydot.graph_from_dot_file('tree_model.dot’, encoding='UTF-8')\n",
    "graph.write_png('decision_tree.png')"
   ]
  }
 ],
 "metadata": {
  "kernelspec": {
   "display_name": "Python 3.10.6 64-bit",
   "language": "python",
   "name": "python3"
  },
  "language_info": {
   "codemirror_mode": {
    "name": "ipython",
    "version": 3
   },
   "file_extension": ".py",
   "mimetype": "text/x-python",
   "name": "python",
   "nbconvert_exporter": "python",
   "pygments_lexer": "ipython3",
   "version": "3.10.6"
  },
  "orig_nbformat": 4,
  "vscode": {
   "interpreter": {
    "hash": "369f2c481f4da34e4445cda3fffd2e751bd1c4d706f27375911949ba6bb62e1c"
   }
  }
 },
 "nbformat": 4,
 "nbformat_minor": 2
}
