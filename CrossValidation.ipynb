{
 "cells": [
  {
   "cell_type": "markdown",
   "metadata": {},
   "source": [
    "# Cross Validation"
   ]
  },
  {
   "cell_type": "markdown",
   "metadata": {},
   "source": [
    "- ### K-Fold Cross Validation\n",
    "   - Test Data가 어떻게 구성되어 있느냐에 따라 정확도가 원래 정확도와 다르게 나올 수 있다.   \n",
    "이를 방지하기 위해 전체 Data를 K개로 분리하여 분리된 Test Data를 통해 얻어진 정확도의 평균으로 계산한다.\n",
    "\n",
    "   - K-Fold Cross Validation은 원하는 모델을 도출하기 위해 사용되는 것은 아니다.   \n",
    "최종 모델 개발을 위한 hyper parameter를 얻기 위함이다. 또한, 전처리시 feature select에 사용된다.\n",
    "\n",
    "   - hyper parameter란? : 모델 학습에 필요한 parameter중에서 사용자가 직접 세팅하는 것을 말한다. \n",
    "------------"
   ]
  },
  {
   "cell_type": "code",
   "execution_count": 22,
   "metadata": {},
   "outputs": [
    {
     "name": "stdout",
     "output_type": "stream",
     "text": [
      "fold : 1 \n",
      "Accuracy : 0.500\n",
      "\n",
      "fold : 2 \n",
      "Accuracy : 0.694\n",
      "\n",
      "fold : 3 \n",
      "Accuracy : 0.722\n",
      "\n",
      "fold : 4 \n",
      "Accuracy : 0.686\n",
      "\n",
      "fold : 5 \n",
      "Accuracy : 0.714\n",
      "\n",
      "5 fold Accuracy: [0.5        0.69444444 0.72222222 0.68571429 0.71428571]\n",
      "mean accuracy : 0.663\n"
     ]
    }
   ],
   "source": [
    "from sklearn import datasets\n",
    "from sklearn import svm\n",
    "from sklearn.model_selection import KFold\n",
    "from sklearn.metrics import accuracy_score\n",
    "import numpy as np\n",
    "\n",
    "wine_X, wine_y = datasets.load_wine(return_X_y=True)\n",
    "\n",
    "kf = KFold(n_splits=5, random_state=123, shuffle=True) # n_splits >> 데이터셋을 5개로 나눔 / shuffle >> 데이터 무작위 분리\n",
    "\n",
    "model = svm.SVC()\n",
    "model.fit(wine_X, wine_y)\n",
    "acc = np.zeros(5) # 각 분리된 test data 별정확도 Array\n",
    "\n",
    "for i, (train_index, test_index) in enumerate(kf.split(wine_X)):\n",
    "        print(f'fold : {i+1} ')\n",
    "\n",
    "        train_X, test_X = wine_X[train_index], wine_X[test_index]\n",
    "        train_y, test_y = wine_y[train_index], wine_y[test_index]\n",
    "\n",
    "        model.fit(train_X, train_y)\n",
    "        pred_y = model.predict(test_X)\n",
    "\n",
    "        acc[i] = accuracy_score(test_y, pred_y)\n",
    "\n",
    "        print(f'Accuracy : {acc[i]:0.3f}\\n')\n",
    "\n",
    "print(f'5 fold Accuracy: {acc}')\n",
    "print(f'mean accuracy : {np.mean(acc):0.3f}')"
   ]
  }
 ],
 "metadata": {
  "kernelspec": {
   "display_name": "Python 3.10.7 64-bit",
   "language": "python",
   "name": "python3"
  },
  "language_info": {
   "name": "python",
   "version": "3.10.7"
  },
  "orig_nbformat": 4,
  "vscode": {
   "interpreter": {
    "hash": "11705b00557649c2ab2263af14686c27a24b2cec0cd0adde932d16ea4aa3435f"
   }
  }
 },
 "nbformat": 4,
 "nbformat_minor": 2
}
