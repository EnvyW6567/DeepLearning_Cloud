{
 "cells": [
  {
   "cell_type": "markdown",
   "metadata": {},
   "source": [
    "# Simple Linear Regression"
   ]
  },
  {
   "cell_type": "markdown",
   "metadata": {},
   "source": [
    "### 1. regression & predict"
   ]
  },
  {
   "cell_type": "code",
   "execution_count": 1,
   "metadata": {},
   "outputs": [
    {
     "name": "stdout",
     "output_type": "stream",
     "text": [
      "[[28.         25.221513    2.778487  ]\n",
      " [24.         29.18014184 -5.18014184]\n",
      " [50.         48.97328605  1.02671395]\n",
      " [92.         76.68368794 15.31631206]\n",
      " [46.         33.13877069 12.86122931]\n",
      " [ 2.         -2.48888889  4.48888889]\n",
      " [52.         60.84917258 -8.84917258]\n",
      " [20.         29.18014184 -9.18014184]\n",
      " [40.         48.97328605 -8.97328605]\n",
      " [34.         21.26288416 12.73711584]]\n",
      "Coefficients: 3.96, Intercept -18.323\n",
      "Mean squared error: 86.11\n",
      "Coefficient of determination: 0.84\n"
     ]
    }
   ],
   "source": [
    "from statistics import LinearRegression\n",
    "import pandas as pd\n",
    "import numpy as np\n",
    "from sklearn.model_selection import train_test_split\n",
    "from sklearn.linear_model import LinearRegression\n",
    "from sklearn.metrics import mean_squared_error, r2_score\n",
    "\n",
    "\n",
    "cars = pd.read_csv('data/cars.csv')\n",
    "speed = cars['speed']\n",
    "dist = cars['dist']\n",
    "\n",
    "# 1차원 List ---conversion--> 2차원 nupmyArray\n",
    "speed = np.array(speed).reshape(50,1)\n",
    "dist = np.array(dist).reshape(50,1)\n",
    "\n",
    "# train set 과 test set 비율(8:2) 배분\n",
    "# https://scikit-learn.org/stable/modules/generated/sklearn.model_selection.train_test_split.html\n",
    "train_X, test_X, train_y, test_y = train_test_split(speed, dist, test_size=0.2, random_state=123)  \n",
    "\n",
    "model = LinearRegression()\n",
    "model.fit(train_X, train_y)\n",
    "pred_y = model.predict(test_X)\n",
    "\n",
    "print(np.concatenate((test_y, pred_y, test_y-pred_y), axis=1))# merge test set, pred set, error\n",
    "print('Coefficients: {0:.2f}, Intercept {1:.3f}'.format(model.coef_[0][0], model.intercept_[0])) # 기울기와 절편\n",
    "print('Mean squared error: {0:.2f}'.format(mean_squared_error(test_y, pred_y))) # 표준편차와 동일 낮을 수록 정확도 ^ but,직관성 떨어짐\n",
    "print('Coefficient of determination: %.2f'% r2_score(test_y, pred_y)) # 최댓값이 1이며 1에 가까울 수록 정확도 ^"
   ]
  },
  {
   "cell_type": "markdown",
   "metadata": {},
   "source": [
    "### 2. Plot Prediction Result"
   ]
  },
  {
   "cell_type": "code",
   "execution_count": 2,
   "metadata": {},
   "outputs": [
    {
     "data": {
      "image/png": "[encoded data removed]",
      "text/plain": [
       "<Figure size 640x480 with 1 Axes>"
      ]
     },
     "metadata": {},
     "output_type": "display_data"
    }
   ],
   "source": [
    "import matplotlib.pyplot as plt\n",
    "\n",
    "plt.scatter(test_X, test_y, color='black')\n",
    "plt.plot(test_X, pred_y, color='blue', linewidth=3)\n",
    "plt.xlabel('speed')\n",
    "plt.ylabel('dist')\n",
    "plt.show()"
   ]
  },
  {
   "cell_type": "markdown",
   "metadata": {},
   "source": [
    "# Multiple Linear Regression"
   ]
  },
  {
   "cell_type": "markdown",
   "metadata": {},
   "source": [
    "### 1. regression & predict"
   ]
  },
  {
   "cell_type": "code",
   "execution_count": 3,
   "metadata": {},
   "outputs": [
    {
     "name": "stdout",
     "output_type": "stream",
     "text": [
      "[[11377.         12258.44038253]\n",
      " [ 5134.          5159.34246076]\n",
      " [ 8880.          8363.1152474 ]\n",
      " [ 5092.          8070.60838686]\n",
      " [ 3000.           611.57316286]\n",
      " [12351.         10982.86171021]\n",
      " [11030.         12841.17595454]\n",
      " [ 8780.          7038.30456849]\n",
      " [ 5449.          6518.19905612]\n",
      " [ 8403.         11814.51860765]\n",
      " [25308.         13990.70934102]\n",
      " [ 3582.          2433.0815516 ]\n",
      " [ 6565.          6130.7498046 ]\n",
      " [ 3930.          3262.367887  ]\n",
      " [14558.         11359.10607204]\n",
      " [ 5511.          6003.35843254]\n",
      " [ 7147.          8425.12859899]\n",
      " [ 4330.          4631.29452279]\n",
      " [ 7956.          7585.19175788]\n",
      " [ 6686.          7271.80203605]\n",
      " [ 3148.          2851.83313408]]\n",
      "Coefficients: 122.50, Intercept 81.627\n",
      "Mean squared error: 8542487.84\n",
      "Coefficient of determination: 0.65\n"
     ]
    }
   ],
   "source": [
    "\n",
    "\n",
    "df = pd.read_csv('data/prestige.csv')\n",
    "df_X = df[['education','women','prestige']]\n",
    "df_y = df['income']\n",
    "\n",
    "df_X = np.array(df_X).reshape(102,3)\n",
    "df_y = np.array(df_y).reshape(102,1)\n",
    "# Split Data into train set & test set (8:2)\n",
    "train_X, test_X, train_y, test_y = train_test_split(df_X, df_y, test_size=0.2,random_state=123)\n",
    "model = LinearRegression()\n",
    "model.fit(train_X, train_y)\n",
    "pred_y = model.predict(test_X)\n",
    "\n",
    "print(np.concatenate((test_y, pred_y), axis=1)) # [test set, pred set]\n",
    "print('Coefficients: {0:.2f}, Intercept {1:.3f}'.format(model.coef_[0][0], model.intercept_[0])) # 기울기와 절편\n",
    "print('Mean squared error: {0:.2f}'.format(mean_squared_error(test_y, pred_y))) # 직관성 떨어짐\n",
    "print('Coefficient of determination: %.2f'% r2_score(test_y, pred_y)) # 최댓값이 1이며 1에 가까울 수록 정확도 ^"
   ]
  },
  {
   "cell_type": "code",
   "execution_count": null,
   "metadata": {},
   "outputs": [],
   "source": []
  }
 ],
 "metadata": {
  "kernelspec": {
   "display_name": "Python 3.10.7 64-bit",
   "language": "python",
   "name": "python3"
  },
  "language_info": {
   "codemirror_mode": {
    "name": "ipython",
    "version": 3
   },
   "file_extension": ".py",
   "mimetype": "text/x-python",
   "name": "python",
   "nbconvert_exporter": "python",
   "pygments_lexer": "ipython3",
   "version": "3.10.7"
  },
  "orig_nbformat": 4,
  "vscode": {
   "interpreter": {
    "hash": "11705b00557649c2ab2263af14686c27a24b2cec0cd0adde932d16ea4aa3435f"
   }
  }
 },
 "nbformat": 4,
 "nbformat_minor": 2
}
