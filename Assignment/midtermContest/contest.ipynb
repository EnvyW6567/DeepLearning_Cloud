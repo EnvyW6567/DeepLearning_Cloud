{
 "cells": [
  {
   "cell_type": "code",
   "execution_count": 105,
   "metadata": {},
   "outputs": [
    {
     "name": "stdout",
     "output_type": "stream",
     "text": [
      "             1    2    3    4    5    6   7    8    9   10  ...   22  23  24  \\\n",
      "0     0.610390   88  130  111  115   83  60   98  102  108  ...  113  65  60   \n",
      "1     0.538961   85  114  111  106   54  84   98  119  108  ...  108  85  84   \n",
      "2     0.655844   99  129  131  120   77  68  111   82  122  ...  128  58  68   \n",
      "3     0.642857  100  136  128  123  106  75  116  108  117  ...  122  79  66   \n",
      "4     0.558442   91  149  114  114   75  93  111   90  115  ...  115  94  92   \n",
      "...        ...  ...  ...  ...  ...  ...  ..  ...  ...  ...  ...  ...  ..  ..   \n",
      "3599  0.525974   83  119  101  105  116  87   99   85  105  ...  101  67  82   \n",
      "3600  0.318182   65  127   74   70   54  53   53   89   78  ...   78  70  53   \n",
      "3601  0.467532   87  136  104  100   71  71  103   71  104  ...  104  54  75   \n",
      "3602  0.558442   91  149  114  101  111  85  102  123  102  ...  102  83  84   \n",
      "3603  0.512987   94  148  101  105  108  67   97  125  115  ...  111  87  76   \n",
      "\n",
      "      25   26  27        28   29   30        31  \n",
      "0     41  114  63  0.624204   92   91  0.700000  \n",
      "1     88  105  83  0.579618   85  133  0.576923  \n",
      "2     88  114  87  0.630573   96  109  0.869231  \n",
      "3     88  122  59  0.585987  100  101  0.869231  \n",
      "4     88  110  70  0.477707   87  137  0.669231  \n",
      "...   ..  ...  ..       ...  ...  ...       ...  \n",
      "3599  66  100  83  0.426752   83  141  0.723077  \n",
      "3600  71   72  92  0.624204   65  113  0.376923  \n",
      "3601  64   86  90  0.541401   87   64  0.553846  \n",
      "3602  76  105  58  0.407643   87  124  0.623077  \n",
      "3603  42   90  99  0.566879   98   67  0.538462  \n",
      "\n",
      "[3604 rows x 31 columns]\n"
     ]
    }
   ],
   "source": [
    "import pandas as pd\n",
    "from sklearn.model_selection import train_test_split\n",
    "\n",
    "train = pd.read_csv('dataset/train_open.csv')\n",
    "\n",
    "map_label = {'A':1, 'B':2, 'C':3, 'D':4, 'E':5, 'F':6}\n",
    "col = ['32']\n",
    "train[col] = train[col].applymap(map_label.get)\n",
    "\n",
    "data_X = train.loc[:, train.columns != '32']\n",
    "data_y = train.loc[:, train.columns == '32']\n",
    "\n",
    "data_y = data_y.astype('int')\n",
    "    \n",
    "train_X, test_X, train_y, test_y = train_test_split(data_X, data_y, test_size=0.3, random_state=1234)"
   ]
  },
  {
   "cell_type": "code",
   "execution_count": 102,
   "metadata": {},
   "outputs": [
    {
     "name": "stdout",
     "output_type": "stream",
     "text": [
      "[('LR', LogisticRegression(max_iter=500)), ('KNN', KNeighborsClassifier()), ('DT', DecisionTreeClassifier()), ('RF', RandomForestClassifier()), ('SVM', SVC())]\n"
     ]
    }
   ],
   "source": [
    "# Model Comparison\n",
    "from sklearn import model_selection\n",
    "from sklearn.linear_model import LogisticRegression\n",
    "from sklearn.tree import DecisionTreeClassifier\n",
    "from sklearn.neighbors import KNeighborsClassifier\n",
    "from sklearn.ensemble import RandomForestClassifier\n",
    "from sklearn.svm import SVC\n",
    "\n",
    "models = []\n",
    "models.append(('LR', LogisticRegression(solver='lbfgs', max_iter=100000)))\n",
    "models.append(('KNN', KNeighborsClassifier()))\n",
    "models.append(('DT', DecisionTreeClassifier()))\n",
    "models.append(('RF', RandomForestClassifier()))\n",
    "models.append(('SVM', SVC()))\n",
    "\n",
    "print(models)"
   ]
  },
  {
   "cell_type": "code",
   "execution_count": 119,
   "metadata": {},
   "outputs": [
    {
     "name": "stderr",
     "output_type": "stream",
     "text": [
      "C:\\Users\\kc656\\AppData\\Roaming\\Python\\Python310\\site-packages\\sklearn\\linear_model\\_logistic.py:444: ConvergenceWarning: lbfgs failed to converge (status=1):\n",
      "STOP: TOTAL NO. of ITERATIONS REACHED LIMIT.\n",
      "\n",
      "Increase the number of iterations (max_iter) or scale the data as shown in:\n",
      "    https://scikit-learn.org/stable/modules/preprocessing.html\n",
      "Please also refer to the documentation for alternative solver options:\n",
      "    https://scikit-learn.org/stable/modules/linear_model.html#logistic-regression\n",
      "  n_iter_i = _check_optimize_result(\n",
      "C:\\Users\\kc656\\AppData\\Roaming\\Python\\Python310\\site-packages\\sklearn\\linear_model\\_logistic.py:444: ConvergenceWarning: lbfgs failed to converge (status=1):\n",
      "STOP: TOTAL NO. of ITERATIONS REACHED LIMIT.\n",
      "\n",
      "Increase the number of iterations (max_iter) or scale the data as shown in:\n",
      "    https://scikit-learn.org/stable/modules/preprocessing.html\n",
      "Please also refer to the documentation for alternative solver options:\n",
      "    https://scikit-learn.org/stable/modules/linear_model.html#logistic-regression\n",
      "  n_iter_i = _check_optimize_result(\n",
      "C:\\Users\\kc656\\AppData\\Roaming\\Python\\Python310\\site-packages\\sklearn\\linear_model\\_logistic.py:444: ConvergenceWarning: lbfgs failed to converge (status=1):\n",
      "STOP: TOTAL NO. of ITERATIONS REACHED LIMIT.\n",
      "\n",
      "Increase the number of iterations (max_iter) or scale the data as shown in:\n",
      "    https://scikit-learn.org/stable/modules/preprocessing.html\n",
      "Please also refer to the documentation for alternative solver options:\n",
      "    https://scikit-learn.org/stable/modules/linear_model.html#logistic-regression\n",
      "  n_iter_i = _check_optimize_result(\n",
      "C:\\Users\\kc656\\AppData\\Roaming\\Python\\Python310\\site-packages\\sklearn\\linear_model\\_logistic.py:444: ConvergenceWarning: lbfgs failed to converge (status=1):\n",
      "STOP: TOTAL NO. of ITERATIONS REACHED LIMIT.\n",
      "\n",
      "Increase the number of iterations (max_iter) or scale the data as shown in:\n",
      "    https://scikit-learn.org/stable/modules/preprocessing.html\n",
      "Please also refer to the documentation for alternative solver options:\n",
      "    https://scikit-learn.org/stable/modules/linear_model.html#logistic-regression\n",
      "  n_iter_i = _check_optimize_result(\n",
      "C:\\Users\\kc656\\AppData\\Roaming\\Python\\Python310\\site-packages\\sklearn\\linear_model\\_logistic.py:444: ConvergenceWarning: lbfgs failed to converge (status=1):\n",
      "STOP: TOTAL NO. of ITERATIONS REACHED LIMIT.\n",
      "\n",
      "Increase the number of iterations (max_iter) or scale the data as shown in:\n",
      "    https://scikit-learn.org/stable/modules/preprocessing.html\n",
      "Please also refer to the documentation for alternative solver options:\n",
      "    https://scikit-learn.org/stable/modules/linear_model.html#logistic-regression\n",
      "  n_iter_i = _check_optimize_result(\n",
      "C:\\Users\\kc656\\AppData\\Roaming\\Python\\Python310\\site-packages\\sklearn\\linear_model\\_logistic.py:444: ConvergenceWarning: lbfgs failed to converge (status=1):\n",
      "STOP: TOTAL NO. of ITERATIONS REACHED LIMIT.\n",
      "\n",
      "Increase the number of iterations (max_iter) or scale the data as shown in:\n",
      "    https://scikit-learn.org/stable/modules/preprocessing.html\n",
      "Please also refer to the documentation for alternative solver options:\n",
      "    https://scikit-learn.org/stable/modules/linear_model.html#logistic-regression\n",
      "  n_iter_i = _check_optimize_result(\n",
      "C:\\Users\\kc656\\AppData\\Roaming\\Python\\Python310\\site-packages\\sklearn\\linear_model\\_logistic.py:444: ConvergenceWarning: lbfgs failed to converge (status=1):\n",
      "STOP: TOTAL NO. of ITERATIONS REACHED LIMIT.\n",
      "\n",
      "Increase the number of iterations (max_iter) or scale the data as shown in:\n",
      "    https://scikit-learn.org/stable/modules/preprocessing.html\n",
      "Please also refer to the documentation for alternative solver options:\n",
      "    https://scikit-learn.org/stable/modules/linear_model.html#logistic-regression\n",
      "  n_iter_i = _check_optimize_result(\n",
      "C:\\Users\\kc656\\AppData\\Roaming\\Python\\Python310\\site-packages\\sklearn\\linear_model\\_logistic.py:444: ConvergenceWarning: lbfgs failed to converge (status=1):\n",
      "STOP: TOTAL NO. of ITERATIONS REACHED LIMIT.\n",
      "\n",
      "Increase the number of iterations (max_iter) or scale the data as shown in:\n",
      "    https://scikit-learn.org/stable/modules/preprocessing.html\n",
      "Please also refer to the documentation for alternative solver options:\n",
      "    https://scikit-learn.org/stable/modules/linear_model.html#logistic-regression\n",
      "  n_iter_i = _check_optimize_result(\n",
      "C:\\Users\\kc656\\AppData\\Roaming\\Python\\Python310\\site-packages\\sklearn\\linear_model\\_logistic.py:444: ConvergenceWarning: lbfgs failed to converge (status=1):\n",
      "STOP: TOTAL NO. of ITERATIONS REACHED LIMIT.\n",
      "\n",
      "Increase the number of iterations (max_iter) or scale the data as shown in:\n",
      "    https://scikit-learn.org/stable/modules/preprocessing.html\n",
      "Please also refer to the documentation for alternative solver options:\n",
      "    https://scikit-learn.org/stable/modules/linear_model.html#logistic-regression\n",
      "  n_iter_i = _check_optimize_result(\n",
      "C:\\Users\\kc656\\AppData\\Roaming\\Python\\Python310\\site-packages\\sklearn\\linear_model\\_logistic.py:444: ConvergenceWarning: lbfgs failed to converge (status=1):\n",
      "STOP: TOTAL NO. of ITERATIONS REACHED LIMIT.\n",
      "\n",
      "Increase the number of iterations (max_iter) or scale the data as shown in:\n",
      "    https://scikit-learn.org/stable/modules/preprocessing.html\n",
      "Please also refer to the documentation for alternative solver options:\n",
      "    https://scikit-learn.org/stable/modules/linear_model.html#logistic-regression\n",
      "  n_iter_i = _check_optimize_result(\n"
     ]
    },
    {
     "name": "stdout",
     "output_type": "stream",
     "text": [
      "  LR: 0.833800 (0.022352)\n",
      " KNN: 0.824100 (0.019485)\n",
      "  DT: 0.825486 (0.026830)\n",
      "  RF: 0.891233 (0.021496)\n",
      " SVM: 0.854056 (0.025707)\n"
     ]
    }
   ],
   "source": [
    "# Model Selection by Accuracy\n",
    "seed = 7\n",
    "results = []\n",
    "names = []\n",
    "scoring = 'accuracy'\n",
    "for name, model in models:\n",
    "\n",
    "    kfold = model_selection.KFold(n_splits=10, random_state=seed, shuffle=True)\n",
    "    cv_results = model_selection.cross_val_score(model, data_X, data_y.values.ravel(), cv=kfold, scoring=scoring)\n",
    "\n",
    "    results.append(cv_results)\n",
    "    names.append(name)\n",
    "    msg = \"%4s: %8f (%8f)\" % (name, cv_results.mean(), cv_results.std())\n",
    "\n",
    "    print(msg)"
   ]
  },
  {
   "cell_type": "code",
   "execution_count": 106,
   "metadata": {},
   "outputs": [
    {
     "data": {
      "image/png": "[encoded data removed]",
      "text/plain": [
       "<Figure size 640x480 with 1 Axes>"
      ]
     },
     "metadata": {},
     "output_type": "display_data"
    }
   ],
   "source": [
    "import matplotlib.pyplot as plt\n",
    "\n",
    "fig = plt.figure()\n",
    "fig.suptitle('Model Selection')\n",
    "ax = fig.add_subplot(111)\n",
    "plt.boxplot(results)\n",
    "ax.set_xticklabels(names)\n",
    "plt.show()"
   ]
  },
  {
   "cell_type": "code",
   "execution_count": 107,
   "metadata": {},
   "outputs": [
    {
     "name": "stdout",
     "output_type": "stream",
     "text": [
      "Fitting 5 folds for each of 10 candidates, totalling 50 fits\n"
     ]
    },
    {
     "name": "stderr",
     "output_type": "stream",
     "text": [
      "C:\\Users\\kc656\\AppData\\Roaming\\Python\\Python310\\site-packages\\sklearn\\model_selection\\_search.py:910: DataConversionWarning: A column-vector y was passed when a 1d array was expected. Please change the shape of y to (n_samples,), for example using ravel().\n",
      "  self.best_estimator_.fit(X, y, **fit_params)\n"
     ]
    },
    {
     "name": "stdout",
     "output_type": "stream",
     "text": [
      "{'bootstrap': False,\n",
      " 'max_depth': 110,\n",
      " 'min_samples_leaf': 1,\n",
      " 'min_samples_split': 5,\n",
      " 'n_estimators': 1600}\n"
     ]
    }
   ],
   "source": [
    "from re import X\n",
    "from sklearn.model_selection import RandomizedSearchCV\n",
    "from sklearn.model_selection import cross_val_score\n",
    "import numpy as np\n",
    "import pprint as pp\n",
    "\n",
    "rf = RandomForestClassifier(random_state=1234)\n",
    "\n",
    "max_depth = [int(x) for x in np.linspace(10, 110, num=11)]\n",
    "max_depth.append(None)\n",
    "\n",
    "param_grid = {\n",
    "    'bootstrap': [True, False],\n",
    "    'max_depth': max_depth,\n",
    "    'min_samples_leaf': [1, 2, 4],\n",
    "    'min_samples_split': [2, 5, 10],\n",
    "    'n_estimators': [int(x) for x in np.linspace(start=200, stop=2000, num=10)]\n",
    "}\n",
    "\n",
    "random_search = RandomizedSearchCV(estimator=rf, param_distributions=param_grid, cv=5, n_jobs=-1, verbose=2)\n",
    "random_search.fit(train_X, train_y)\n",
    "pp.pprint(random_search.best_params_)"
   ]
  },
  {
   "cell_type": "code",
   "execution_count": 110,
   "metadata": {},
   "outputs": [
    {
     "name": "stdout",
     "output_type": "stream",
     "text": [
      "             1   2    3    4    5    6   7    8    9   10  ...   22   23  24  \\\n",
      "0     0.376623  68  111   84   80   75  74   87   75   86  ...   75   67  67   \n",
      "1     0.525974  89  134  104  109  112  67   95  120  112  ...  112  109  63   \n",
      "2     0.344156  76  171   74   74   88  50   46   86   78  ...   82   66  53   \n",
      "3     0.376623  45   95   66   73   57  56   53   77   65  ...   62   68  59   \n",
      "4     0.512987  76  151   89   93   49  53   71   82   90  ...   90   92  53   \n",
      "...        ...  ..  ...  ...  ...  ...  ..  ...  ...  ...  ...  ...  ...  ..   \n",
      "1539  0.415584  65  144   82   82  103  67   75  114   86  ...   82   94  72   \n",
      "1540  0.428571  80  144   93   90   77  75   88   76   97  ...   97   96  78   \n",
      "1541  0.551948  85  129  113  113  113  93  107   91  108  ...  108   74  90   \n",
      "1542  0.402597  59  140   74   78  107  64   77  114   83  ...   79   55  64   \n",
      "1543  0.448052  74  118   94   94  109  80   94   77   96  ...   91   54  76   \n",
      "\n",
      "      25   26  27        28  29   30        31  \n",
      "0     84   74  67  0.528662  64  133  0.800000  \n",
      "1     63   96  91  0.503185  92  109  0.676923  \n",
      "2     84   72  86  0.394904  65  142  0.507692  \n",
      "3     59   74  81  0.439490  45  119  0.769231  \n",
      "4     83   97  57  0.560510  79  121  0.753846  \n",
      "...   ..  ...  ..       ...  ..  ...       ...  \n",
      "1539  63   82  89  0.554140  61  103  0.284615  \n",
      "1540  64   84  99  0.528662  80  105  0.592308  \n",
      "1541  85  113  90  0.598726  89  146  0.238462  \n",
      "1542  63   78  63  0.554140  59  119  0.869231  \n",
      "1543  75   97  80  0.471338  74   59  0.669231  \n",
      "\n",
      "[1544 rows x 31 columns]\n"
     ]
    }
   ],
   "source": [
    "test = pd.read_csv('dataset/test_open.csv')\n",
    "\n",
    "print(test)\n",
    "\n",
    "# best model\n",
    "best_random_model = random_search.best_estimator_\n",
    "best_random_predict = best_random_model.predict(test)\n",
    "\n",
    "predict_str = []\n",
    "\n",
    "for answer in best_random_predict:\n",
    "    predict_str.append(answer)\n",
    "    \n",
    "# print(predict_str)    \n",
    "pd.DataFrame(predict_str).to_csv('predict.csv')\n"
   ]
  }
 ],
 "metadata": {
  "kernelspec": {
   "display_name": "Python 3.10.6 64-bit",
   "language": "python",
   "name": "python3"
  },
  "language_info": {
   "codemirror_mode": {
    "name": "ipython",
    "version": 3
   },
   "file_extension": ".py",
   "mimetype": "text/x-python",
   "name": "python",
   "nbconvert_exporter": "python",
   "pygments_lexer": "ipython3",
   "version": "3.10.6"
  },
  "orig_nbformat": 4,
  "vscode": {
   "interpreter": {
    "hash": "369f2c481f4da34e4445cda3fffd2e751bd1c4d706f27375911949ba6bb62e1c"
   }
  }
 },
 "nbformat": 4,
 "nbformat_minor": 2
}
