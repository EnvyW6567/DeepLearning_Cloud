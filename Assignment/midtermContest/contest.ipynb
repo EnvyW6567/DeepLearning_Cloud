{
 "cells": [
  {
   "cell_type": "code",
   "execution_count": 79,
   "metadata": {},
   "outputs": [
    {
     "name": "stdout",
     "output_type": "stream",
     "text": [
      "['A' 'B' 'C' 'D' 'E' 'F']\n",
      "[0 2 0 ... 3 2 0]\n"
     ]
    }
   ],
   "source": [
    "import pandas as pd\n",
    "import numpy as np\n",
    "from sklearn.model_selection import train_test_split\n",
    "from sklearn.preprocessing import LabelEncoder\n",
    "\n",
    "train = pd.read_csv('dataset/train_open.csv')\n",
    "\n",
    "# map_label = {'A':1, 'B':2, 'C':3, 'D':4, 'E':5, 'F':6}\n",
    "# col = ['32']\n",
    "# train[col] = train[col].applymap(map_label.get)\n",
    "\n",
    "encoder = LabelEncoder()\n",
    "\n",
    "data_X = train.loc[:, train.columns != '32']\n",
    "data_y = encoder.fit_transform(train['32'])\n",
    "data_y = np.array(data_y)\n",
    "\n",
    "print(encoder.classes_)\n",
    "print(data_y)\n",
    "\n",
    "train_X, test_X, train_y, test_y = train_test_split(data_X, data_y, test_size=0.3, random_state=1234)"
   ]
  },
  {
   "cell_type": "code",
   "execution_count": 70,
   "metadata": {},
   "outputs": [],
   "source": [
    "# Model Comparison\n",
    "from sklearn import model_selection\n",
    "from sklearn.linear_model import LogisticRegression\n",
    "from sklearn.tree import DecisionTreeClassifier\n",
    "from sklearn.neighbors import KNeighborsClassifier\n",
    "from sklearn.ensemble import RandomForestClassifier\n",
    "from sklearn.svm import SVC\n",
    "\n"
   ]
  },
  {
   "cell_type": "code",
   "execution_count": 80,
   "metadata": {},
   "outputs": [
    {
     "name": "stdout",
     "output_type": "stream",
     "text": [
      "['20']\n",
      "0.5714\n",
      "['20', '8']\n",
      "0.5968\n",
      "['20', '8', '11']\n",
      "0.6059\n",
      "['20', '8', '11', '19']\n",
      "0.6384\n",
      "['20', '8', '11', '19', '13']\n",
      "0.6598\n",
      "['20', '8', '11', '19', '13', '29']\n",
      "0.8097\n",
      "['20', '8', '11', '19', '13', '29', '2']\n",
      "0.8287\n",
      "['20', '8', '11', '19', '13', '29', '2', '7']\n",
      "0.8803\n",
      "['20', '8', '11', '19', '13', '29', '2', '7', '14']\n",
      "0.8822\n",
      "['20', '8', '11', '19', '13', '29', '2', '7', '14', '16']\n",
      "0.8882\n",
      "['20', '8', '11', '19', '13', '29', '2', '7', '14', '16', '24']\n",
      "0.8914\n",
      "['20', '8', '11', '19', '13', '29', '2', '7', '14', '16', '24', '17']\n",
      "0.8949\n",
      "['20', '8', '11', '19', '13', '29', '2', '7', '14', '16', '24', '17', '4']\n",
      "0.8906\n",
      "['20', '8', '11', '19', '13', '29', '2', '7', '14', '16', '24', '17', '4', '5']\n",
      "0.9005\n",
      "['20', '8', '11', '19', '13', '29', '2', '7', '14', '16', '24', '17', '4', '5', '22']\n",
      "0.8937\n",
      "['20', '8', '11', '19', '13', '29', '2', '7', '14', '16', '24', '17', '4', '5', '22', '26']\n",
      "0.8977\n",
      "['20', '8', '11', '19', '13', '29', '2', '7', '14', '16', '24', '17', '4', '5', '22', '26', '10']\n",
      "0.9013\n",
      "['20', '8', '11', '19', '13', '29', '2', '7', '14', '16', '24', '17', '4', '5', '22', '26', '10', '1']\n",
      "0.8957\n",
      "['20', '8', '11', '19', '13', '29', '2', '7', '14', '16', '24', '17', '4', '5', '22', '26', '10', '1', '27']\n",
      "0.8977\n",
      "['20', '8', '11', '19', '13', '29', '2', '7', '14', '16', '24', '17', '4', '5', '22', '26', '10', '1', '27', '25']\n",
      "0.8965\n",
      "['20', '8', '11', '19', '13', '29', '2', '7', '14', '16', '24', '17', '4', '5', '22', '26', '10', '1', '27', '25', '30']\n",
      "0.8993\n",
      "['20', '8', '11', '19', '13', '29', '2', '7', '14', '16', '24', '17', '4', '5', '22', '26', '10', '1', '27', '25', '30', '15']\n",
      "0.8949\n",
      "['20', '8', '11', '19', '13', '29', '2', '7', '14', '16', '24', '17', '4', '5', '22', '26', '10', '1', '27', '25', '30', '15', '6']\n",
      "0.8949\n",
      "['20', '8', '11', '19', '13', '29', '2', '7', '14', '16', '24', '17', '4', '5', '22', '26', '10', '1', '27', '25', '30', '15', '6', '23']\n",
      "0.8937\n",
      "['20', '8', '11', '19', '13', '29', '2', '7', '14', '16', '24', '17', '4', '5', '22', '26', '10', '1', '27', '25', '30', '15', '6', '23', '9']\n",
      "0.8945\n",
      "['20', '8', '11', '19', '13', '29', '2', '7', '14', '16', '24', '17', '4', '5', '22', '26', '10', '1', '27', '25', '30', '15', '6', '23', '9', '21']\n",
      "0.8965\n",
      "['20', '8', '11', '19', '13', '29', '2', '7', '14', '16', '24', '17', '4', '5', '22', '26', '10', '1', '27', '25', '30', '15', '6', '23', '9', '21', '3']\n",
      "0.8929\n",
      "['20', '8', '11', '19', '13', '29', '2', '7', '14', '16', '24', '17', '4', '5', '22', '26', '10', '1', '27', '25', '30', '15', '6', '23', '9', '21', '3', '18']\n",
      "0.8933\n",
      "['20', '8', '11', '19', '13', '29', '2', '7', '14', '16', '24', '17', '4', '5', '22', '26', '10', '1', '27', '25', '30', '15', '6', '23', '9', '21', '3', '18', '12']\n",
      "0.8921\n",
      "['20', '8', '11', '19', '13', '29', '2', '7', '14', '16', '24', '17', '4', '5', '22', '26', '10', '1', '27', '25', '30', '15', '6', '23', '9', '21', '3', '18', '12', '31']\n",
      "0.8894\n",
      "['20', '8', '11', '19', '13', '29', '2', '7', '14', '16', '24', '17', '4', '5', '22', '26', '10', '1', '27', '25', '30', '15', '6', '23', '9', '21', '3', '18', '12', '31', '28']\n",
      "0.8929\n"
     ]
    }
   ],
   "source": [
    "from sklearn.feature_selection import SelectKBest\n",
    "from sklearn.feature_selection import chi2\n",
    "import numpy as np\n",
    "from sklearn.model_selection import cross_val_score\n",
    "\n",
    "test = SelectKBest(score_func=chi2, k=train_X.shape[1])\n",
    "fit = test.fit(train_X, train_y)\n",
    "\n",
    "f_order = np.argsort(-fit.scores_) # sort index by decreasing order\n",
    "sorted_columns = train.columns[f_order]\n",
    "\n",
    "model = RandomForestClassifier()\n",
    "\n",
    "for i in range(1, train_X.shape[1]+1):\n",
    "    fs = sorted_columns[0:i]\n",
    "    df_X_selected = train_X[fs]\n",
    "    scores = cross_val_score(model, df_X_selected, train_y, cv=5)\n",
    "    print(fs.tolist())\n",
    "    print(np.round(scores.mean(), 4))\n",
    "\n"
   ]
  },
  {
   "cell_type": "code",
   "execution_count": 81,
   "metadata": {},
   "outputs": [
    {
     "name": "stdout",
     "output_type": "stream",
     "text": [
      "('1', '2', '4', '5', '6', '7', '8', '14', '15', '16', '19', '20', '24', '26', '29', '30', '31')\n",
      "Acc: 0.8925483262611976\n"
     ]
    }
   ],
   "source": [
    "from mlxtend.feature_selection import SequentialFeatureSelector as SFS\n",
    "\n",
    "\n",
    "model = RandomForestClassifier()\n",
    "\n",
    "sfs1 = SFS(model, k_features=17, verbose=0, scoring='accuracy', cv=5, n_jobs=-1)\n",
    "sfs1 = sfs1.fit(train_X, train_y)\n",
    "\n",
    "print(sfs1.k_feature_names_) # selected feature name\n",
    "\n",
    "scores = cross_val_score(model, train_X[list(sfs1.k_feature_names_)], train_y, cv=5)\n",
    "print(\"Acc: \"+str(scores.mean()))"
   ]
  },
  {
   "cell_type": "code",
   "execution_count": 108,
   "metadata": {},
   "outputs": [
    {
     "name": "stdout",
     "output_type": "stream",
     "text": [
      "Fitting 5 folds for each of 10 candidates, totalling 50 fits\n",
      "{'bootstrap': False,\n",
      " 'max_depth': None,\n",
      " 'min_samples_leaf': 2,\n",
      " 'min_samples_split': 2,\n",
      " 'n_estimators': 1600}\n"
     ]
    }
   ],
   "source": [
    "from sklearn.model_selection import GridSearchCV, RandomizedSearchCV\n",
    "from sklearn.model_selection import cross_val_score\n",
    "import numpy as np\n",
    "import pprint as pp\n",
    "\n",
    "rf = RandomForestClassifier(random_state=1234)\n",
    "\n",
    "max_depth = [int(x) for x in np.linspace(10, 110, num=10)]\n",
    "max_depth.append(None)\n",
    "\n",
    "rand_list = {\n",
    "    'bootstrap': [True, False],\n",
    "    'max_depth': max_depth,\n",
    "    'min_samples_leaf': [1, 2, 4],\n",
    "    'min_samples_split': [int(x) for x in np.linspace(2, 20, num=1)],\n",
    "    'n_estimators': [int(x) for x in np.linspace(start=200, stop=2000, num=10)]\n",
    "}\n",
    "\n",
    "random_search_rf = RandomizedSearchCV(estimator=rf, param_distributions=rand_list, cv=5, n_jobs=-1, verbose=2, scoring=\"accuracy\")\n",
    "random_search_rf.fit(train_X[list(sfs1.k_feature_names_)], train_y)\n",
    "pp.pprint(random_search_rf.best_params_)"
   ]
  },
  {
   "cell_type": "code",
   "execution_count": 102,
   "metadata": {},
   "outputs": [
    {
     "data": {
      "text/plain": [
       "0.6857670979667283"
      ]
     },
     "execution_count": 102,
     "metadata": {},
     "output_type": "execute_result"
    }
   ],
   "source": [
    "from sklearn.metrics import accuracy_score\n",
    "import xgboost as xgb\n",
    "\n",
    "\n",
    "D_train = xgb.DMatrix(train_X, label=train_y)\n",
    "D_test = xgb.DMatrix(test_X, label=test_y)\n",
    "\n",
    "random_list = {\n",
    "    'booster': 'gbtree',\n",
    "    'eta': 0.2,\n",
    "    'max_depth' : 3,\n",
    "    'objective': 'reg:squarederror',\n",
    "    'eval_metric': 'error',\n",
    "}\n",
    "steps = 20\n",
    "\n",
    "xg = xgb.train(random_list, D_train, steps)\n",
    "\n",
    "random_search_xg = RandomizedSearchCV(estimator=xg, param_distributions=rand_list, cv=5, n_jobs=-1, verbose=2, scoring=\"accuracy\")\n",
    "random_search_xg.fit(train_X[list(sfs1.k_feature_names_)], train_y)\n",
    "pp.pprint(random_search_xg.best_params_)\n",
    "pp.pprint(random_search_xg.best_score_)\n",
    "\n",
    "pred = model.predict(D_test)\n",
    "\n",
    "round_preds = np.round(pred) # real -> [0,1]\n",
    "accuracy_score(test_y, round_preds)"
   ]
  },
  {
   "cell_type": "code",
   "execution_count": 84,
   "metadata": {},
   "outputs": [
    {
     "name": "stdout",
     "output_type": "stream",
     "text": [
      "Fitting 5 folds for each of 20 candidates, totalling 100 fits\n",
      "{'C': 2.209602254061174, 'gamma': 0.8670701646824878}\n"
     ]
    }
   ],
   "source": [
    "from scipy import stats\n",
    "\n",
    "svc = SVC(probability = True, random_state = 1)\n",
    "\n",
    "rand_list = {\"C\": stats.uniform(2, 10),\n",
    "             \"gamma\": stats.uniform(0.1, 1)}\n",
    "              \n",
    "random_search_svc = RandomizedSearchCV(estimator=svc, param_distributions = rand_list, n_iter = 20, n_jobs = -1, cv = 5, random_state = 2017, scoring = \"accuracy\", verbose=2) \n",
    "random_search_svc.fit(train_X[list(sfs1.k_feature_names_)], train_y) \n",
    "pp.pprint(random_search_svc.best_params_)"
   ]
  },
  {
   "cell_type": "code",
   "execution_count": 86,
   "metadata": {},
   "outputs": [
    {
     "name": "stdout",
     "output_type": "stream",
     "text": [
      "Fitting 5 folds for each of 10 candidates, totalling 50 fits\n",
      "{'leaf_size': 12, 'n_neighbors': 7, 'p': 1}\n"
     ]
    }
   ],
   "source": [
    "knn = KNeighborsClassifier()\n",
    "\n",
    "rand_list = {\n",
    "    \"leaf_size\" : [int(x) for x in range(1,50)],\n",
    "    \"n_neighbors\" : [int(x) for x in range(1,30)],\n",
    "    \"p\" : [1,2],\n",
    "}\n",
    "\n",
    "random_search_knn = RandomizedSearchCV(estimator=knn, param_distributions=rand_list, n_jobs = -1, cv = 5, verbose=2)\n",
    "random_search_knn.fit(train_X[list(sfs1.k_feature_names_)], train_y) \n",
    "pp.pprint(random_search_knn.best_params_)"
   ]
  },
  {
   "cell_type": "code",
   "execution_count": 88,
   "metadata": {},
   "outputs": [
    {
     "name": "stdout",
     "output_type": "stream",
     "text": [
      "Fitting 5 folds for each of 10 candidates, totalling 50 fits\n",
      "{'criterion': 'entropy',\n",
      " 'max_depth': None,\n",
      " 'min_samples_leaf': 3,\n",
      " 'min_samples_split': 2}\n"
     ]
    }
   ],
   "source": [
    "from sklearn.preprocessing import StandardScaler\n",
    "\n",
    "dt = DecisionTreeClassifier()\n",
    "\n",
    "max_depth = [int(x) for x in np.linspace(10, 110, num=10)]\n",
    "max_depth.append(None)\n",
    "\n",
    "rand_list = {\n",
    "    'max_depth': max_depth,\n",
    "    'min_samples_leaf': [int(x) for x in range(1, 5)],\n",
    "    'min_samples_split': [int(x) for x in range(2, 11)],\n",
    "    'criterion' : ['gini', 'entropy'],\n",
    "}\n",
    "\n",
    "random_search_dt = RandomizedSearchCV(estimator=dt, param_distributions=rand_list, n_jobs = -1, cv = 5, verbose=2, random_state=1234)\n",
    "random_search_dt.fit(train_X[list(sfs1.k_feature_names_)], train_y) \n",
    "pp.pprint(random_search_dt.best_params_)"
   ]
  },
  {
   "cell_type": "code",
   "execution_count": 89,
   "metadata": {},
   "outputs": [
    {
     "name": "stdout",
     "output_type": "stream",
     "text": [
      "Fitting 5 folds for each of 10 candidates, totalling 50 fits\n"
     ]
    },
    {
     "name": "stderr",
     "output_type": "stream",
     "text": [
      "c:\\Users\\NBH\\AppData\\Local\\Programs\\Python\\Python310\\lib\\site-packages\\sklearn\\model_selection\\_validation.py:378: FitFailedWarning: \n",
      "15 fits failed out of a total of 50.\n",
      "The score on these train-test partitions for these parameters will be set to nan.\n",
      "If these failures are not expected, you can try to debug them by setting error_score='raise'.\n",
      "\n",
      "Below are more details about the failures:\n",
      "--------------------------------------------------------------------------------\n",
      "5 fits failed with the following error:\n",
      "Traceback (most recent call last):\n",
      "  File \"c:\\Users\\NBH\\AppData\\Local\\Programs\\Python\\Python310\\lib\\site-packages\\sklearn\\model_selection\\_validation.py\", line 686, in _fit_and_score\n",
      "    estimator.fit(X_train, y_train, **fit_params)\n",
      "  File \"c:\\Users\\NBH\\AppData\\Local\\Programs\\Python\\Python310\\lib\\site-packages\\sklearn\\linear_model\\_logistic.py\", line 1091, in fit\n",
      "    solver = _check_solver(self.solver, self.penalty, self.dual)\n",
      "  File \"c:\\Users\\NBH\\AppData\\Local\\Programs\\Python\\Python310\\lib\\site-packages\\sklearn\\linear_model\\_logistic.py\", line 61, in _check_solver\n",
      "    raise ValueError(\n",
      "ValueError: Solver lbfgs supports only 'l2' or 'none' penalties, got elasticnet penalty.\n",
      "\n",
      "--------------------------------------------------------------------------------\n",
      "5 fits failed with the following error:\n",
      "Traceback (most recent call last):\n",
      "  File \"c:\\Users\\NBH\\AppData\\Local\\Programs\\Python\\Python310\\lib\\site-packages\\sklearn\\model_selection\\_validation.py\", line 686, in _fit_and_score\n",
      "    estimator.fit(X_train, y_train, **fit_params)\n",
      "  File \"c:\\Users\\NBH\\AppData\\Local\\Programs\\Python\\Python310\\lib\\site-packages\\sklearn\\linear_model\\_logistic.py\", line 1091, in fit\n",
      "    solver = _check_solver(self.solver, self.penalty, self.dual)\n",
      "  File \"c:\\Users\\NBH\\AppData\\Local\\Programs\\Python\\Python310\\lib\\site-packages\\sklearn\\linear_model\\_logistic.py\", line 71, in _check_solver\n",
      "    raise ValueError(\n",
      "ValueError: Only 'saga' solver supports elasticnet penalty, got solver=liblinear.\n",
      "\n",
      "--------------------------------------------------------------------------------\n",
      "5 fits failed with the following error:\n",
      "Traceback (most recent call last):\n",
      "  File \"c:\\Users\\NBH\\AppData\\Local\\Programs\\Python\\Python310\\lib\\site-packages\\sklearn\\model_selection\\_validation.py\", line 686, in _fit_and_score\n",
      "    estimator.fit(X_train, y_train, **fit_params)\n",
      "  File \"c:\\Users\\NBH\\AppData\\Local\\Programs\\Python\\Python310\\lib\\site-packages\\sklearn\\linear_model\\_logistic.py\", line 1091, in fit\n",
      "    solver = _check_solver(self.solver, self.penalty, self.dual)\n",
      "  File \"c:\\Users\\NBH\\AppData\\Local\\Programs\\Python\\Python310\\lib\\site-packages\\sklearn\\linear_model\\_logistic.py\", line 61, in _check_solver\n",
      "    raise ValueError(\n",
      "ValueError: Solver newton-cg supports only 'l2' or 'none' penalties, got elasticnet penalty.\n",
      "\n",
      "  warnings.warn(some_fits_failed_message, FitFailedWarning)\n",
      "c:\\Users\\NBH\\AppData\\Local\\Programs\\Python\\Python310\\lib\\site-packages\\sklearn\\model_selection\\_search.py:953: UserWarning: One or more of the test scores are non-finite: [0.81007544 0.81324061        nan        nan 0.8235565  0.844967\n",
      " 0.81998821 0.82196527 0.79817382        nan]\n",
      "  warnings.warn(\n",
      "c:\\Users\\NBH\\AppData\\Local\\Programs\\Python\\Python310\\lib\\site-packages\\sklearn\\linear_model\\_logistic.py:1113: UserWarning: Setting penalty='none' will ignore the C and l1_ratio parameters\n",
      "  warnings.warn(\n"
     ]
    },
    {
     "name": "stdout",
     "output_type": "stream",
     "text": [
      "{'C': 0.0031968399196034697, 'penalty': 'none', 'solver': 'newton-cg'}\n"
     ]
    },
    {
     "name": "stderr",
     "output_type": "stream",
     "text": [
      "c:\\Users\\NBH\\AppData\\Local\\Programs\\Python\\Python310\\lib\\site-packages\\sklearn\\utils\\optimize.py:210: ConvergenceWarning: newton-cg failed to converge. Increase the number of iterations.\n",
      "  warnings.warn(\n"
     ]
    }
   ],
   "source": [
    "from scipy.stats import loguniform\n",
    "\n",
    "lr = LogisticRegression()\n",
    "\n",
    "rand_list = {\n",
    "    \"solver\" : ['newton-cg', 'lbfgs', 'liblinear'],\n",
    "    \"penalty\" : ['none', 'l1', 'l2', 'elasticnet'],\n",
    "    \"C\" : loguniform(1e-5, 100)\n",
    "}\n",
    "\n",
    "random_search_lr = RandomizedSearchCV(estimator=lr, param_distributions=rand_list, n_jobs = -1, cv = 5, verbose=2, random_state=1234)\n",
    "random_search_lr.fit(train_X[list(sfs1.k_feature_names_)], train_y) \n",
    "pp.pprint(random_search_lr.best_params_)"
   ]
  },
  {
   "cell_type": "code",
   "execution_count": 91,
   "metadata": {},
   "outputs": [
    {
     "name": "stdout",
     "output_type": "stream",
     "text": [
      "  LR: 0.845733 (0.022157)\n",
      " KNN: 0.865988 (0.020667)\n",
      "  DT: 0.835182 (0.020455)\n",
      "  RF: 0.899555 (0.021576)\n",
      " SVM: 0.231393 (0.024351)\n"
     ]
    },
    {
     "data": {
      "image/png": "[encoded data removed]",
      "text/plain": [
       "<Figure size 640x480 with 1 Axes>"
      ]
     },
     "metadata": {},
     "output_type": "display_data"
    }
   ],
   "source": [
    "import matplotlib.pyplot as plt\n",
    "\n",
    "models = []\n",
    "models.append(('LR', random_search_lr.best_estimator_))\n",
    "models.append(('KNN', random_search_knn.best_estimator_))\n",
    "models.append(('DT', random_search_dt.best_estimator_))\n",
    "models.append(('RF', random_search_rf.best_estimator_))\n",
    "models.append(('SVM', random_search_svc.best_estimator_))\n",
    "\n",
    "# Model Selection by Accuracy\n",
    "seed = 7\n",
    "results = []\n",
    "names = []\n",
    "scoring = 'accuracy'\n",
    "for name, model in models:\n",
    "\n",
    "    kfold = model_selection.KFold(n_splits=10, random_state=seed, shuffle=True)\n",
    "    cv_results = model_selection.cross_val_score(model, data_X[list(sfs1.k_feature_names_)], data_y, cv=kfold, scoring=scoring, n_jobs=-1)\n",
    "\n",
    "    results.append(cv_results)\n",
    "    names.append(name)\n",
    "    msg = \"%4s: %8f (%8f)\" % (name, cv_results.mean(), cv_results.std())\n",
    "\n",
    "    print(msg)\n",
    "\n",
    "fig = plt.figure()\n",
    "fig.suptitle('Model Selection')\n",
    "ax = fig.add_subplot(111)\n",
    "plt.boxplot(results)\n",
    "ax.set_xticklabels(names)\n",
    "plt.show()"
   ]
  },
  {
   "cell_type": "code",
   "execution_count": 110,
   "metadata": {},
   "outputs": [
    {
     "name": "stdout",
     "output_type": "stream",
     "text": [
      "Fitting 5 folds for each of 660 candidates, totalling 3300 fits\n",
      "{'bootstrap': False,\n",
      " 'max_depth': 21,\n",
      " 'min_samples_leaf': 2,\n",
      " 'min_samples_split': 2,\n",
      " 'n_estimators': 1600}\n",
      "0.8980991670595632\n"
     ]
    }
   ],
   "source": [
    "rf = RandomForestClassifier(random_state=1234)\n",
    "\n",
    "max_depth = [int(x) for x in np.linspace(10, 110, num=10)]\n",
    "max_depth.append(None)\n",
    "\n",
    "grid_list = {\n",
    "    'bootstrap': [True, False],\n",
    "    'max_depth': max_depth,\n",
    "    'min_samples_leaf': [int(x) for x in np.linspace(1, 10, num=1)],\n",
    "    'min_samples_split': [int(x) for x in np.linspace(2, 20, num=1)],\n",
    "    'n_estimators': [int(x) for x in np.linspace(start=200, stop=2000, num=20)]\n",
    "}\n",
    "\n",
    "random_search_rf = GridSearchCV(estimator=rf, param_grid=rand_list, cv=5, n_jobs=-1, verbose=2, scoring=\"accuracy\")\n",
    "random_search_rf.fit(train_X[list(sfs1.k_feature_names_)], train_y)\n",
    "pp.pprint(random_search_rf.best_params_)\n",
    "pp.pprint(random_search_rf.best_score_)\n"
   ]
  },
  {
   "cell_type": "code",
   "execution_count": 112,
   "metadata": {},
   "outputs": [
    {
     "name": "stdout",
     "output_type": "stream",
     "text": [
      "             1   2    3    4    5    6   7    8    9   10  ...   22   23  24  \\\n",
      "0     0.376623  68  111   84   80   75  74   87   75   86  ...   75   67  67   \n",
      "1     0.525974  89  134  104  109  112  67   95  120  112  ...  112  109  63   \n",
      "2     0.344156  76  171   74   74   88  50   46   86   78  ...   82   66  53   \n",
      "3     0.376623  45   95   66   73   57  56   53   77   65  ...   62   68  59   \n",
      "4     0.512987  76  151   89   93   49  53   71   82   90  ...   90   92  53   \n",
      "...        ...  ..  ...  ...  ...  ...  ..  ...  ...  ...  ...  ...  ...  ..   \n",
      "1539  0.415584  65  144   82   82  103  67   75  114   86  ...   82   94  72   \n",
      "1540  0.428571  80  144   93   90   77  75   88   76   97  ...   97   96  78   \n",
      "1541  0.551948  85  129  113  113  113  93  107   91  108  ...  108   74  90   \n",
      "1542  0.402597  59  140   74   78  107  64   77  114   83  ...   79   55  64   \n",
      "1543  0.448052  74  118   94   94  109  80   94   77   96  ...   91   54  76   \n",
      "\n",
      "      25   26  27        28  29   30        31  \n",
      "0     84   74  67  0.528662  64  133  0.800000  \n",
      "1     63   96  91  0.503185  92  109  0.676923  \n",
      "2     84   72  86  0.394904  65  142  0.507692  \n",
      "3     59   74  81  0.439490  45  119  0.769231  \n",
      "4     83   97  57  0.560510  79  121  0.753846  \n",
      "...   ..  ...  ..       ...  ..  ...       ...  \n",
      "1539  63   82  89  0.554140  61  103  0.284615  \n",
      "1540  64   84  99  0.528662  80  105  0.592308  \n",
      "1541  85  113  90  0.598726  89  146  0.238462  \n",
      "1542  63   78  63  0.554140  59  119  0.869231  \n",
      "1543  75   97  80  0.471338  74   59  0.669231  \n",
      "\n",
      "[1544 rows x 31 columns]\n"
     ]
    }
   ],
   "source": [
    "test = pd.read_csv('dataset/test_open.csv')\n",
    "\n",
    "print(test)\n",
    "\n",
    "# best model\n",
    "best_random_model = random_search_rf.best_estimator_\n",
    "best_random_predict = best_random_model.predict(test[list(sfs1.k_feature_names_)])\n",
    "\n",
    "# predict_str = []\n",
    "\n",
    "pd.DataFrame(encoder.inverse_transform(best_random_predict)).to_csv('predict.csv')    \n"
   ]
  }
 ],
 "metadata": {
  "kernelspec": {
   "display_name": "Python 3.10.7 64-bit",
   "language": "python",
   "name": "python3"
  },
  "language_info": {
   "codemirror_mode": {
    "name": "ipython",
    "version": 3
   },
   "file_extension": ".py",
   "mimetype": "text/x-python",
   "name": "python",
   "nbconvert_exporter": "python",
   "pygments_lexer": "ipython3",
   "version": "3.10.7"
  },
  "orig_nbformat": 4,
  "vscode": {
   "interpreter": {
    "hash": "11705b00557649c2ab2263af14686c27a24b2cec0cd0adde932d16ea4aa3435f"
   }
  }
 },
 "nbformat": 4,
 "nbformat_minor": 2
}
