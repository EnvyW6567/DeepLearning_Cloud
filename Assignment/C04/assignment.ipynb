{
 "cells": [
  {
   "cell_type": "code",
   "execution_count": 65,
   "metadata": {},
   "outputs": [
    {
     "name": "stdout",
     "output_type": "stream",
     "text": [
      "Coefficients: -0.94, Intercept 34.321\n",
      "[[32.44550746]\n",
      " [31.50768979]\n",
      " [30.56987212]]\n",
      "Mean squared error: 40.44\n",
      "Coefficient of determination: 0.56\n"
     ]
    }
   ],
   "source": [
    "import pandas as pd\n",
    "import numpy as np\n",
    "from sklearn.model_selection import train_test_split\n",
    "from sklearn.linear_model import LinearRegression\n",
    "from sklearn.metrics import mean_squared_error, r2_score\n",
    "\n",
    "house = pd.read_csv('data/BostonHousing.csv')\n",
    "\n",
    "lstat = house[\"lstat\"]\n",
    "medv = house[\"medv\"]\n",
    "lstat = np.array(lstat).reshape(506,1)\n",
    "medv = np.array(medv).reshape(506,1)\n",
    "\n",
    "train_X, test_X, train_y, test_y = train_test_split(lstat, medv, test_size=0.3, random_state=1234)  \n",
    "\n",
    "model = LinearRegression()\n",
    "model.fit(train_X, train_y)\n",
    "pred_y = model.predict(test_X)\n",
    "# print(pred_y)\n",
    "print('Coefficients: {0:.2f}, Intercept {1:.3f}'.format(model.coef_[0][0], model.intercept_[0])) \n",
    "\n",
    "q3_test_X = [[2.0], [3.0], [4.0]]\n",
    "print(model.predict(q3_test_X))\n",
    "\n",
    "print('Mean squared error: {0:.2f}'.format(mean_squared_error(test_y, pred_y)))\n",
    "print('Coefficient of determination: %.2f'% r2_score(test_y, pred_y))"
   ]
  },
  {
   "cell_type": "code",
   "execution_count": 43,
   "metadata": {},
   "outputs": [
    {
     "name": "stdout",
     "output_type": "stream",
     "text": [
      "Coefficients: -0.81, Intercept 59.262\n",
      "[[35.49774089]\n",
      " [34.90871561]\n",
      " [34.01764254]]\n",
      "Mean squared error: 34.49\n",
      "Coefficient of determination: 0.63\n"
     ]
    }
   ],
   "source": [
    "\n",
    "house_X = house[['lstat','ptratio','tax', 'rad']]\n",
    "house_y = house['medv']\n",
    "\n",
    "house_X = np.array(house_X).reshape(506,4)\n",
    "house_y = np.array(house_y).reshape(506,1)\n",
    "\n",
    "# 데이터셋 train:test = 7:3, random_state = 1234\n",
    "train_X, test_X, train_y, test_y = train_test_split(house_X, house_y, test_size=0.3,random_state=1234)\n",
    "\n",
    "model = LinearRegression()\n",
    "model.fit(train_X, train_y)\n",
    "pred_y = model.predict(test_X)\n",
    "# print(pred_y)\n",
    "print('Coefficients: {0:.2f}, Intercept {1:.3f}'.format(model.coef_[0][0], model.intercept_[0])) \n",
    "\n",
    "q7_test_X = np.array([[2.0, 14, 296, 1],[3.0, 15, 222, 2],[4.0, 15, 250, 3]]).reshape(3,4)\n",
    "print(model.predict(q7_test_X))\n",
    "\n",
    "print('Mean squared error: {0:.2f}'.format(mean_squared_error(test_y, pred_y)))\n",
    "print('Coefficient of determination: %.2f'% r2_score(test_y, pred_y))"
   ]
  },
  {
   "cell_type": "code",
   "execution_count": 63,
   "metadata": {},
   "outputs": [
    {
     "name": "stdout",
     "output_type": "stream",
     "text": [
      "Test Accuracy : 0.741667\n",
      "Train Accuracy : 0.671429\n",
      "[0 0 0]\n",
      "[0 0 0 0 0 0 0 0 0 0 0 0 0 0 1 0 0 0 0 0 0 0 0 0 0 0 0 0 0 0 0 0 0 0 0 0 0\n",
      " 0 0 0 1 0 0 0 0 0 0 0 0 0 0 0 0 0 0 0 0 0 0 0 0 0 0 0 0 0 0 0 0 0 0 0 0 0\n",
      " 0 0 1 0 0 0 1 0 1 0 0 0 0 0 0 0 0 0 0 0 0 0 0 0 0 0 0 0 0 0 0 0 0 0 0 0 0\n",
      " 0 0 0 0 0 0 0 0 0]\n",
      "Test Accuracy : 0.825000\n",
      "Train Accuracy : 0.625000\n"
     ]
    },
    {
     "name": "stderr",
     "output_type": "stream",
     "text": [
      "c:\\Users\\NBH\\AppData\\Local\\Programs\\Python\\Python310\\lib\\site-packages\\sklearn\\base.py:450: UserWarning: X does not have valid feature names, but LogisticRegression was fitted with feature names\n",
      "  warnings.warn(\n"
     ]
    }
   ],
   "source": [
    "from sklearn.linear_model import LogisticRegression\n",
    "from sklearn.metrics import accuracy_score\n",
    "\n",
    "ucla = pd.read_csv(\"data/ucla_admit.csv\")\n",
    "\n",
    "ucla_X = ucla[[\"gre\", \"gpa\", \"rank\"]]\n",
    "ucla_y = ucla[\"admit\"]\n",
    "\n",
    "# ucla_X = np.array(ucla_X).reshape(400,3)\n",
    "# ucla_y = np.array(ucla_y).reshape(400,1)\n",
    "\n",
    "train_X, test_X, train_y, test_y = train_test_split(ucla_X, ucla_y, test_size=0.3, random_state=1234) # train : test = 7 : 3\n",
    "\n",
    "model = LogisticRegression()\n",
    "model.fit(train_X, train_y)\n",
    "\n",
    "# Q11\n",
    "pred_y = model.predict(test_X)\n",
    "acc = accuracy_score(test_y, pred_y)\n",
    "print('Test Accuracy : {0:3f}'.format(acc))\n",
    "pred_y = model.predict(train_X)\n",
    "acc = accuracy_score(train_y, pred_y)\n",
    "print('Train Accuracy : {0:3f}'.format(acc))\n",
    "\n",
    "# Q12\n",
    "q12_test_X = np.array([[400, 3.5, 5], [550, 3.8, 2], [700, 4.0, 2]]).reshape(3,3)\n",
    "print(model.predict(q12_test_X))\n",
    "\n",
    "# Q13\n",
    "ucla_X = ucla[[\"gre\",\"gpa\"]]\n",
    "ucla_y = ucla[\"admit\"]\n",
    "train_X, test_X, train_y, test_y = train_test_split(ucla_X, ucla_y, test_size=0.3, random_state=1234) # train : test = 7 : 3\n",
    "model.fit(train_X, train_y)\n",
    "pred_y = model.predict(test_X)\n",
    "print(pred_y)\n",
    "\n",
    "# Q14\n",
    "pred_y = model.predict(test_X)\n",
    "acc = accuracy_score(test_y, pred_y)\n",
    "print('Test Accuracy : {0:3f}'.format(acc))\n",
    "pred_y = model.predict(train_X)\n",
    "acc = accuracy_score(train_y, pred_y)\n",
    "print('Train Accuracy : {0:3f}'.format(acc))"
   ]
  }
 ],
 "metadata": {
  "kernelspec": {
   "display_name": "Python 3.10.6 64-bit",
   "language": "python",
   "name": "python3"
  },
  "language_info": {
   "codemirror_mode": {
    "name": "ipython",
    "version": 3
   },
   "file_extension": ".py",
   "mimetype": "text/x-python",
   "name": "python",
   "nbconvert_exporter": "python",
   "pygments_lexer": "ipython3",
   "version": "3.10.6"
  },
  "orig_nbformat": 4,
  "vscode": {
   "interpreter": {
    "hash": "369f2c481f4da34e4445cda3fffd2e751bd1c4d706f27375911949ba6bb62e1c"
   }
  }
 },
 "nbformat": 4,
 "nbformat_minor": 2
}
