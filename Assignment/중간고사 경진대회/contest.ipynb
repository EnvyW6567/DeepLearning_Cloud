{
 "cells": [
  {
   "cell_type": "code",
   "execution_count": 26,
   "metadata": {},
   "outputs": [],
   "source": [
    "from random import random\n",
    "import pandas as pd\n",
    "from sklearn.model_selection import train_test_split\n",
    "\n",
    "train = pd.read_csv('dataset/train_open.csv')\n",
    "train.columns =  [1, 2, 3, 4, 5, 6, 7, 8, 9, 10, \"label\"]\n",
    "# test = pd.read_csv('dataset/test_open.csv')\n",
    "# test.columns = [1, 2, 3, 4, 5, 6, 7, 8, 9, 10]\n",
    "\n",
    "data_X = train.loc[:, train.columns != \"label\"]\n",
    "data_y = train.loc[:, \"label\"]\n",
    "\n",
    "train_X, test_X, train_y, test_y = train_test_split(data_X, data_y, test_size=0.3, random_state=1234)\n",
    "\n"
   ]
  },
  {
   "cell_type": "code",
   "execution_count": 30,
   "metadata": {},
   "outputs": [
    {
     "name": "stdout",
     "output_type": "stream",
     "text": [
      "Train accuracy : 0.541853817884851\n",
      "Test accuracy : 0.5266666666666666\n"
     ]
    }
   ],
   "source": [
    "\n",
    "from sklearn.linear_model import SGDClassifier\n",
    "\n",
    "\n",
    "sgd = SGDClassifier()\n",
    "sgd.fit(train_X, train_y)\n",
    "pred_y = sgd.predict(test_X)\n",
    "\n",
    "print('Train accuracy :',sgd.score(train_X, train_y))\n",
    "print('Test accuracy :',sgd.score(test_X, test_y))"
   ]
  },
  {
   "cell_type": "code",
   "execution_count": 35,
   "metadata": {},
   "outputs": [
    {
     "name": "stdout",
     "output_type": "stream",
     "text": [
      "Train accuracy : 0.7950183748468763\n",
      "Test accuracy : 0.6685714285714286\n"
     ]
    }
   ],
   "source": [
    "from sklearn.neighbors import KNeighborsClassifier\n",
    "\n",
    "knn = KNeighborsClassifier(algorithm='auto', leaf_size=30, metric='minkowski',\n",
    "                     metric_params=None, n_jobs=None, n_neighbors=5, p=2,\n",
    "                     weights='uniform')\n",
    "knn.fit(train_X, train_y)\n",
    "pred_y = knn.predict(test_X)\n",
    "\n",
    "print('Train accuracy :',knn.score(train_X, train_y))\n",
    "print('Test accuracy :',knn.score(test_X, test_y))"
   ]
  },
  {
   "cell_type": "code",
   "execution_count": 40,
   "metadata": {},
   "outputs": [
    {
     "name": "stdout",
     "output_type": "stream",
     "text": [
      "Train accuracy : 1.0\n",
      "Test accuracy : 0.8352380952380952\n"
     ]
    }
   ],
   "source": [
    "from sklearn.tree import DecisionTreeClassifier\n",
    "\n",
    "tree = DecisionTreeClassifier(ccp_alpha=0.0, class_weight=None, criterion='gini',\n",
    "                       max_depth=None, max_features=None, max_leaf_nodes=None,\n",
    "                       min_impurity_decrease=0.0, min_samples_leaf=1, min_samples_split=2,\n",
    "                       min_weight_fraction_leaf=0.0, \n",
    "                       random_state=0, splitter='best')\n",
    "\n",
    "tree.fit(train_X, train_y)\n",
    "pred_y = tree.predict(test_X)\n",
    "\n",
    "print('Train accuracy :',tree.score(train_X, train_y))\n",
    "print('Test accuracy :',tree.score(test_X, test_y))"
   ]
  }
 ],
 "metadata": {
  "kernelspec": {
   "display_name": "Python 3.10.6 64-bit",
   "language": "python",
   "name": "python3"
  },
  "language_info": {
   "codemirror_mode": {
    "name": "ipython",
    "version": 3
   },
   "file_extension": ".py",
   "mimetype": "text/x-python",
   "name": "python",
   "nbconvert_exporter": "python",
   "pygments_lexer": "ipython3",
   "version": "3.10.6"
  },
  "orig_nbformat": 4,
  "vscode": {
   "interpreter": {
    "hash": "369f2c481f4da34e4445cda3fffd2e751bd1c4d706f27375911949ba6bb62e1c"
   }
  }
 },
 "nbformat": 4,
 "nbformat_minor": 2
}
