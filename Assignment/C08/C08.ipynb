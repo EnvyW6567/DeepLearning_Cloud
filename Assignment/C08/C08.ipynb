{
 "cells": [
  {
   "cell_type": "code",
   "execution_count": 20,
   "metadata": {},
   "outputs": [
    {
     "name": "stdout",
     "output_type": "stream",
     "text": [
      "error 1 : 0.284958\n",
      "w       : [0.4 0.7 0.8]\n",
      "delta w : [0.07123947 0.11398316 0.02849579]\n",
      "\n",
      "error 2 : 0.258744\n",
      "w       : [0.47123947 0.81398316 0.82849579]\n",
      "delta w : [0.06468607 0.10349771 0.02587443]\n",
      "\n",
      "error 3 : 0.236345\n",
      "w       : [0.53592554 0.91748087 0.85437022]\n",
      "delta w : [0.05908634 0.09453814 0.02363454]\n",
      "\n",
      "error 4 : 0.217087\n",
      "w       : [0.59501188 1.01201901 0.87800475]\n",
      "delta w : [0.0542718  0.08683489 0.02170872]\n",
      "\n",
      "error 5 : 0.200421\n",
      "w       : [0.64928369 1.0988539  0.89971348]\n",
      "delta w : [0.05010515 0.08016824 0.02004206]\n",
      "\n"
     ]
    }
   ],
   "source": [
    "import numpy as np\n",
    "\n",
    "\n",
    "def SIGMOID(x):\n",
    "    return 1 / (1 + np.exp(-x))\n",
    "\n",
    "alpha = 0.5\n",
    "x = np.array([0.5, 0.8, 0.2])\n",
    "w = np.array([0.4, 0.7, 0.8])\n",
    "d = 1\n",
    "for i in range(5):\n",
    "    v = np.sum(x * w)\n",
    "    y = SIGMOID(v)\n",
    "    e = d - y\n",
    "    print(f'error {i+1} : {e:0.6f}')\n",
    "    print(f'w       : {w}')\n",
    "    print(f'delta w : {(alpha*e*x)}\\n')\n",
    "    w = w + alpha * e * x\n"
   ]
  }
 ],
 "metadata": {
  "kernelspec": {
   "display_name": "Python 3.10.7 64-bit",
   "language": "python",
   "name": "python3"
  },
  "language_info": {
   "codemirror_mode": {
    "name": "ipython",
    "version": 3
   },
   "file_extension": ".py",
   "mimetype": "text/x-python",
   "name": "python",
   "nbconvert_exporter": "python",
   "pygments_lexer": "ipython3",
   "version": "3.10.7"
  },
  "orig_nbformat": 4,
  "vscode": {
   "interpreter": {
    "hash": "11705b00557649c2ab2263af14686c27a24b2cec0cd0adde932d16ea4aa3435f"
   }
  }
 },
 "nbformat": 4,
 "nbformat_minor": 2
}
