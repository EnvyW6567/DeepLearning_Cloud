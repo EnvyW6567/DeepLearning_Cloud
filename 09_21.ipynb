{
 "cells": [
  {
   "cell_type": "markdown",
   "metadata": {},
   "source": [
    "# Logistic Regression"
   ]
  },
  {
   "cell_type": "markdown",
   "metadata": {},
   "source": [
    "### 1. 개념"
   ]
  },
  {
   "cell_type": "markdown",
   "metadata": {},
   "source": [
    "- 예측 해야하는 종속 변수가 수치 변수가 아닌 범주형 데이터 (ex. True or False, Patient or Healthy) 일 때, 해결하려는 시도가 Logistic Regression 이다.\n",
    "- 범주나 그룹을 예측 하는 문제를 분류(Classification) 문제 라 한다."
   ]
  },
  {
   "cell_type": "markdown",
   "metadata": {},
   "source": [
    "### 2. 개요"
   ]
  },
  {
   "cell_type": "markdown",
   "metadata": {},
   "source": [
    "- Iris 품종 분류 문제\n",
    "- 총 3개의 품종으로 분류되어 있음\n",
    "- 꽃받침, 꽃잎의 너비와 높이와 그에 따른 품종이 학습데이터로 주어짐"
   ]
  },
  {
   "cell_type": "code",
   "execution_count": 30,
   "metadata": {},
   "outputs": [
    {
     "name": "stdout",
     "output_type": "stream",
     "text": [
      "(150, 4)\n",
      "1, 1, right\n",
      "1, 1, right\n",
      "2, 2, right\n",
      "1, 1, right\n",
      "1, 1, right\n",
      "1, 1, right\n",
      "1, 1, right\n",
      "1, 1, right\n",
      "1, 1, right\n",
      "2, 2, right\n",
      "1, 1, right\n",
      "1, 1, right\n",
      "2, 2, right\n",
      "1, 1, right\n",
      "1, 1, right\n",
      "1, 1, right\n",
      "2, 2, right\n",
      "1, 1, right\n",
      "2, 2, right\n",
      "1, 1, right\n",
      "1, 1, right\n",
      "1, 1, right\n",
      "1, 1, right\n",
      "1, 1, right\n",
      "2, 2, right\n",
      "1, 1, right\n",
      "2, 2, right\n",
      "1, 1, right\n",
      "2, 2, right\n",
      "1, 1, right\n",
      "1, 1, right\n",
      "2, 2, right\n",
      "1, 1, right\n",
      "2, 2, right\n",
      "2, 2, right\n",
      "1, 1, right\n",
      "1, 1, right\n",
      "1, 1, right\n",
      "1, 1, right\n",
      "1, 1, right\n",
      "1, 1, right\n",
      "1, 1, right\n",
      "1, 1, right\n",
      "2, 2, right\n",
      "2, 2, right\n",
      "Accuracy : 0.977778\n"
     ]
    }
   ],
   "source": [
    "from sklearn import datasets # sklearn의 Iris 데이터셋 이용\n",
    "from sklearn.linear_model import LogisticRegression # Logistic Regression 모델\n",
    "from sklearn.model_selection import train_test_split # train, test dataset 분리\n",
    "from sklearn.metrics import accuracy_score # 예측 결과값과 실제 결과값 정확도 측정\n",
    "import numpy as np\n",
    "\n",
    "iris_X, iris_y = datasets.load_iris(return_X_y=True)\n",
    "print(iris_X.shape) # 150개의 데이터셋과 4개의 종속 변수로 이루어짐\n",
    "# iris_X = np.array(iris_X).reshape(150,4)\n",
    "# iris_y = np.array(iris_y).reshape(150,1)\n",
    "\n",
    "train_X, test_X, train_y, test_y = train_test_split(iris_X, iris_y, test_size=0.3, random_state=1234) # train : test = 7 : 3\n",
    "\n",
    "model = LogisticRegression()\n",
    "model.fit(train_X, train_y)\n",
    "pred_y = model.predict(test_X)\n",
    "for i in pred_y:\n",
    "    crr = \"wrong\"\n",
    "    if test_y[i] == pred_y[i]:\n",
    "        crr = \"right\"\n",
    "    print(f'{test_y[i]}, {pred_y[i]}, {crr}')\n",
    "\n",
    "acc = accuracy_score(test_y, pred_y)\n",
    "print('Accuracy : {0:3f}'.format(acc))"
   ]
  }
 ],
 "metadata": {
  "kernelspec": {
   "display_name": "Python 3.10.7 64-bit",
   "language": "python",
   "name": "python3"
  },
  "language_info": {
   "codemirror_mode": {
    "name": "ipython",
    "version": 3
   },
   "file_extension": ".py",
   "mimetype": "text/x-python",
   "name": "python",
   "nbconvert_exporter": "python",
   "pygments_lexer": "ipython3",
   "version": "3.10.7"
  },
  "orig_nbformat": 4,
  "vscode": {
   "interpreter": {
    "hash": "11705b00557649c2ab2263af14686c27a24b2cec0cd0adde932d16ea4aa3435f"
   }
  }
 },
 "nbformat": 4,
 "nbformat_minor": 2
}
